{
 "cells": [
  {
   "cell_type": "markdown",
   "metadata": {},
   "source": [
    "<br>\n",
    "<img style=\"float:left\" src=\"http://ipython.org/_static/IPy_header.png\" />\n",
    "<br>"
   ]
  },
  {
   "cell_type": "markdown",
   "metadata": {},
   "source": [
    "# Session 1: Orientation"
   ]
  },
  {
   "cell_type": "markdown",
   "metadata": {},
   "source": [
    "<br>\n",
    "Welcome to the *IPython Notebook*. Through this interface, you'll be learning a lot of things:\n",
    "\n",
    "* A Programming language: **Python**\n",
    "* A Python library: **NLTK**\n",
    "* Overlapping research areas: **Corpus linguistics**, **Natural language processing**, **Distant reading**\n",
    "* Additional skills: **Regular Expressions**, some **Shell commands**, and **tips on managing your data**\n",
    "\n",
    "You can head [here](https://github.com/resbaz/lessons/blob/master/nltk/README.md) for the fully articulated overview of the course, but we'll almost always stay within IPython. \n",
    "Remember, everything we cover here will remain available to you after ResBaz is over, including these Notebooks. It's all accessible at the [ResBaz GitHub](https://github.com/resbaz/lessons/tree/master/nltk).\n",
    "\n",
    "**Any questions before we begin?**\n",
    "\n",
    "Alright, we're off!"
   ]
  },
  {
   "cell_type": "markdown",
   "metadata": {},
   "source": [
    "## Text as data"
   ]
  },
  {
   "cell_type": "markdown",
   "metadata": {},
   "source": [
    "Programming languages like Python are great for processing data. In order to apply it to *text*, we need to think about our text as data.\n",
    "This means being aware of how text is structured, what extra information might be encoded in it, and how to manage to give the best results. "
   ]
  },
  {
   "cell_type": "markdown",
   "metadata": {},
   "source": [
    "## What is the Natural Language Toolkit?"
   ]
  },
  {
   "cell_type": "markdown",
   "metadata": {},
   "source": [
    "<br>\n",
    "We'll be covering some of the theory behind corpus linguistics later on, but let's start by looking at some of the tasks NLTK can help you with. "
   ]
  },
  {
   "cell_type": "markdown",
   "metadata": {},
   "source": [
    "NLTK is a Python Library for working with written language data. It is free and extensively documented. Many areas we'll be covering are treated in more detail in the NLTK Book, available free online from [here](http://www.nltk.org/book/).\n",
    "\n",
    "> Note: NLTK provides tools for tasks ranging from very simple (counting words in a text) to very complex (writing and training parsers, etc.). Many advanced tasks are beyond the scope of this course, but by the time we're done, you should understand Python and NLTK well enough to perform these tasks on your own!\n",
    "\n",
    "We will start by importing NLTK, setting a path to NLTK resources, and downloading some additional stuff."
   ]
  },
  {
   "cell_type": "code",
   "execution_count": 1,
   "metadata": {
    "collapsed": false
   },
   "outputs": [],
   "source": [
    "# inline images:\n",
    "% matplotlib inline\n",
    "# ability to clear output:\n",
    "from IPython.display import clear_output \n",
    "import nltk # imports all the nltk basics\n",
    "user_nltk_dir = \"nltk_data\" # specify our data directory\n",
    "if user_nltk_dir not in nltk.data.path: # make sure nltk can access this dir\n",
    "    nltk.data.path.insert(0, user_nltk_dir)\n",
    "#nltk.download(\"book\", download_dir=user_nltk_dir) # download book materials to data directory\n",
    "clear_output() # clear the large amount of text we just generated"
   ]
  },
  {
   "cell_type": "code",
   "execution_count": 2,
   "metadata": {
    "collapsed": false
   },
   "outputs": [
    {
     "name": "stdout",
     "output_type": "stream",
     "text": [
      "*** Introductory Examples for the NLTK Book ***\n",
      "Loading text1, ..., text9 and sent1, ..., sent9\n",
      "Type the name of the text or sentence to view it.\n",
      "Type: 'texts()' or 'sents()' to list the materials.\n",
      "text1: Moby Dick by Herman Melville 1851\n",
      "text2: Sense and Sensibility by Jane Austen 1811\n",
      "text3: The Book of Genesis\n",
      "text4: Inaugural Address Corpus\n",
      "text5: Chat Corpus\n",
      "text6: Monty Python and the Holy Grail\n",
      "text7: Wall Street Journal\n",
      "text8: Personals Corpus\n",
      "text9: The Man Who Was Thursday by G . K . Chesterton 1908\n"
     ]
    }
   ],
   "source": [
    "from nltk.book import * # asterisk means \"everything\""
   ]
  },
  {
   "cell_type": "code",
   "execution_count": 16,
   "metadata": {
    "collapsed": false
   },
   "outputs": [
    {
     "name": "stdout",
     "output_type": "stream",
     "text": [
      "44764\n"
     ]
    }
   ],
   "source": [
    "print len(text3)"
   ]
  },
  {
   "cell_type": "code",
   "execution_count": 13,
   "metadata": {
    "collapsed": false
   },
   "outputs": [
    {
     "name": "stdout",
     "output_type": "stream",
     "text": [
      "[u'[', u'Sense', u'and', u'Sensibility', u'by', u'Jane', u'Austen', u'1811', u']', u'CHAPTER']\n"
     ]
    }
   ],
   "source": [
    "print text2[:10]"
   ]
  },
  {
   "cell_type": "code",
   "execution_count": 15,
   "metadata": {
    "collapsed": false
   },
   "outputs": [
    {
     "data": {
      "text/plain": [
       "2789"
      ]
     },
     "execution_count": 15,
     "metadata": {},
     "output_type": "execute_result"
    }
   ],
   "source": [
    "len(set(text3))"
   ]
  },
  {
   "cell_type": "code",
   "execution_count": 18,
   "metadata": {
    "collapsed": false
   },
   "outputs": [
    {
     "data": {
      "text/plain": [
       "16"
      ]
     },
     "execution_count": 18,
     "metadata": {},
     "output_type": "execute_result"
    }
   ],
   "source": [
    "len(text3)/len(set(text3))"
   ]
  },
  {
   "cell_type": "code",
   "execution_count": 19,
   "metadata": {
    "collapsed": false
   },
   "outputs": [
    {
     "name": "stdout",
     "output_type": "stream",
     "text": [
      "Displaying 11 of 11 matches:\n",
      "ong the former , one was of a most monstrous size . ... This came towards us , \n",
      "ON OF THE PSALMS . \" Touching that monstrous bulk of the whale or ork we have r\n",
      "ll over with a heathenish array of monstrous clubs and spears . Some were thick\n",
      "d as you gazed , and wondered what monstrous cannibal and savage could ever hav\n",
      "that has survived the flood ; most monstrous and most mountainous ! That Himmal\n",
      "they might scout at Moby Dick as a monstrous fable , or still worse and more de\n",
      "th of Radney .'\" CHAPTER 55 Of the Monstrous Pictures of Whales . I shall ere l\n",
      "ing Scenes . In connexion with the monstrous pictures of whales , I am strongly\n",
      "ere to enter upon those still more monstrous stories of them which are to be fo\n",
      "ght have been rummaged out of this monstrous cabinet there is no telling . But \n",
      "of Whale - Bones ; for Whales of a monstrous size are oftentimes cast up dead u\n"
     ]
    }
   ],
   "source": [
    "text1.concordance(\"monstrous\")"
   ]
  },
  {
   "cell_type": "code",
   "execution_count": 20,
   "metadata": {
    "collapsed": false
   },
   "outputs": [
    {
     "name": "stdout",
     "output_type": "stream",
     "text": [
      "imperial subtly impalpable pitiable curious abundant perilous\n",
      "trustworthy untoward singular lamentable few determined maddens\n",
      "horrible tyrannical lazy mystifying christian exasperate\n"
     ]
    }
   ],
   "source": [
    "text1.similar(\"monstrous\")"
   ]
  },
  {
   "cell_type": "code",
   "execution_count": 21,
   "metadata": {
    "collapsed": false
   },
   "outputs": [
    {
     "name": "stdout",
     "output_type": "stream",
     "text": [
      "very exceedingly so heartily a great good amazingly as sweet\n",
      "remarkably extremely vast\n"
     ]
    }
   ],
   "source": [
    "text2.similar(\"monstrous\")"
   ]
  },
  {
   "cell_type": "code",
   "execution_count": 22,
   "metadata": {
    "collapsed": false
   },
   "outputs": [
    {
     "name": "stdout",
     "output_type": "stream",
     "text": [
      "a_pretty is_pretty a_lucky am_glad be_glad\n"
     ]
    }
   ],
   "source": [
    "text2.common_contexts([\"monstrous\", \"very\"])  # this function takes two arguments"
   ]
  },
  {
   "cell_type": "code",
   "execution_count": 23,
   "metadata": {
    "collapsed": false
   },
   "outputs": [
    {
     "data": {
      "image/png": "[encoded data removed]",
      "text/plain": [
       "<matplotlib.figure.Figure at 0x1031ae410>"
      ]
     },
     "metadata": {},
     "output_type": "display_data"
    }
   ],
   "source": [
    "import numpy\n",
    "text1.dispersion_plot([\"whale\"])"
   ]
  },
  {
   "cell_type": "code",
   "execution_count": 36,
   "metadata": {
    "collapsed": false
   },
   "outputs": [],
   "source": [
    "myfile = open('survey_data.csv')\n",
    "raw = myfile.read()"
   ]
  },
  {
   "cell_type": "code",
   "execution_count": 37,
   "metadata": {
    "collapsed": false
   },
   "outputs": [
    {
     "name": "stdout",
     "output_type": "stream",
     "text": [
      "\"Briefly list 1-2 specific skills relating to data and\n",
      "software you'd like to acquire and apply to your\n",
      "research (eg. types of analyses you'd like to use,\n",
      "software tools you'd like to work with)\"\n",
      "\n",
      "\"How to apply tests of significance to my findings\n",
      "General coding best practices for legibility and reproducibility \"\n",
      "Just need to increase comfort with core concepts (why researchers would need to do some programming) in order to assist researchers with data curation. Not an active researcher myself.\n",
      "?\n",
      "\"Programming in R and Python (little to no experience at this time)\n",
      "Advanced commands in Stata, particularly with regards to visualizing data\n",
      "GIS\"\n",
      "\"I'd like to learn more programming languages (currently I know Stata and a teeny bit of R and SQL). Potentially also survey data collection and analysis, and it's always good to go over more statistics, conceptually and pragmatically.\"\n",
      "Learn the basics of browsing and manipulating data using Stata.\n",
      "\"A better understanding of database tools and structure, geo-spatial software and data, and R.\"\n",
      "Not sure.\n",
      "\"Knowing how to use Stata, SPSS, Drupal, and even Excel more effectively. How to manage large amounts of data and manipulate them to draw out specific patterns or variables. A background in broader concepts around digital humanities and \"\"big data\"\" would be useful, too.\"\n",
      "content management tools such as Plone\n",
      "I'd like to learn the basics of the tools that researchers on campus are using most frequently to analyze & manage their data.\n",
      "\"Would like to know how to customize software more to answer my specific questions.\n",
      "\n",
      "Would like to know how to scrape data off the web and move from there.\"\n",
      "I would be happy to learn any basics of the software listed in question #9 and which ones are most useful for specific data use/manipulation needs.\n",
      "My researchers use R a lot for ecological analysis and I'd like to understand that better.\n",
      "Gis\n",
      "Data organization and data presentation. (Beyond Catalyst and Excel)\n",
      "making the link between databases and web-based displays of info\n",
      "\"linear regression;\n",
      "R,\n",
      "stata\"\n",
      "\"I almost exclusively use R, and I'm familiar with the basics of shiny, and quite familiar with knitr, but I'd like to gain familiarity with CSS and incorporating other javascript libraries into my R workflow, and learn about the RCharts package.\"\n",
      "\"natural language processing, data visualization\"\n",
      "Time series analysis\n",
      "\"Please don't make these fields \"\"required\"\"\"\n",
      "I would like to know basic statistics to understand what papers are saying.\n",
      "\"Tableau / visualization tools\n",
      "Use existing spatial maps to plot my data (e.g. use  Police Department beat-area maps to analyze my spatial data contained in the license plate reader databases.\"\n",
      "\"Would like to be able to analyze data in the diary text eg names, places,  sites etc.  Currently using XML/TEI, XSLT, mediawiki, omeka, wordpress\"\n",
      "\"I know a little GIS, but would like to be able to do more spatial analysis. I can use ArcGIS at a very basic level, but would like to be able to take advantage of more advanced capabilities. \"\n",
      "\"I'd like to become more competent with statistical software, such as R, and with data management.\"\n",
      "\"gis, web page design and programming\"\n",
      "I would like to learn R (I am currently using SPSS and have also used SAS and Stata) and explore data visualization software.\n",
      "All of the above\n",
      "I don't know enough about different systems of analysis to be able to answer this question. An easier software or tool to group data (other than those provided in excel) would be great!\n",
      "I do not know enough to answer.\n",
      "\"I'd like to learn more about how to program, how to design and build surveys and how to use R for qualitative and quantitative research.\"\n",
      "\"Data visualization, textual analysis and network analysis\"\n",
      "I don't know much except for what my research classes have pointed out.  I haven't done programming except this year when I used SPSS. It was confusing and I could CERTAINLY use more instruction in order to do it; luckily I had help in class.  But it would be better if I learned how to program myself.  \n",
      "\"I have some experience with statistical analysis software (SPSS and Stata), but would like to expand that and develop some basic knowledge of other software or programming language that would expand my analysis capacity.\"\n",
      "\"Data management in R and using R to call specialized programs (e.g., Mplus) and output results as tables and plots.\"\n",
      "I would like a basic introduction to other data analysis programs in order to see which one most closely aligns with my needs and skill level.  Analysis would be identifying moderators and mediators of primary clinical outcomes within and RCT.\n",
      "\"I think that knowledge of R would be  beneficial to allowing more flexibility in my models. I think it will also be helpful in my career, as a growing number of people are using R for running their statistical models. I also want to become more competent at building and managing databases.\"\n",
      "\"Mostly basic database skills and management -- data normalization, relational table design, Structured Query Language, etc. Other possible interests: topic modeling, basics/philosophy of GIS, other forms of digital data visualization, and I guess at some point I should learn something about TEI.\"\n",
      "Revisit Java or object orientated design.\n",
      "More efficient full-text search and multi-threading for processing larger lets of data. Information on working with spreading jobs across multiple machines in the cluster would also be interesting.\n",
      "Best practices for accessing and analyzing data. Better facility with analysis and scripting tools.\n",
      "I'd like to learn more about using Microsoft Excel and SPSS for data analysis. I also need to learn how to use software that allows me to analyze data through hierarchical linear modeling.\n",
      "\" hard to say this early in my research-  but am generally interested in making legible databases (like mysql)  as well as  online environments like ruby on rails, php,  etc.\"\n",
      "I don't know where to start! \n",
      "\"Anthropac for Mac, visual representations of qualitative data\"\n",
      "I have some knowledge of Atlas.ti ethnographic coding software and would like to improve it. \n",
      "Great facility with quantitative software\n",
      "learning which methods to use for different purposes \n",
      "I would like to become more familiar with Bayesian analysis. \n",
      "\"Long-term: natural language processing, graph theory\n",
      "Shorter-term: python scripting, building models\"\n",
      "\"tools for web interactions--PHP, Python\n",
      "tools for design interactions--Axure, etc.\"\n",
      "Knowing what database mgmt. sys and scripting lang. will be best going forward. Whatever programming tools are needed for this purpose. Including  software for appropriate for tabulating  frequency/occurances of syntax patterns under varying conditions (space/time/rhyme scheme) & display of same. Mapping software to plot \n",
      "\"??\n",
      "\n",
      "Re: 9: I programmed in Fortran for SPSSx as a graduate student; would not object to a refresher and update on how best to handle intersection of qual data with social survey data.\"\n",
      "\"More SQL. In Python, getting more experience tools like Numpy/Scikit-learn.\"\n",
      "I would like to learn to use both SPSS and to do programing for \n",
      "AWS\n",
      "Data analysis/spatial analysis.\n",
      "I'd like to understand something about Flash because many of the literary works I work with have been created using this tool.  \n",
      "\"database building and management\n",
      "language for conducting search queries in said databases\"\n",
      "Data scraping of social media sites and social computing systems such as Wikipedia\n",
      "I'd like to work with machine learning techniques.\n",
      "\"Interesting in being able to analyze transcripts as well as prose from books and websites, both for theme and linguistic structures. Also, video analysis.\"\n",
      "\"Visualizations\n",
      "Qualitative analysis\n",
      "\"\n",
      "\"more statistical analysis with R, multilevel analysis\"\n",
      "Python libraries and tools for ML and Viz\n",
      "\"qualitative software that is more user friendly, more manipulatable to my needs.\"\n",
      "\"multi-variate regression analyses\n",
      "R and/or SPSS\"\n",
      "Coding in SAS or R for data analysis\n",
      "R\n",
      "\"Better understanding of topic modelling, analysis of statistics, analysis of brain data.\"\n",
      "\n"
     ]
    }
   ],
   "source": [
    "print raw"
   ]
  },
  {
   "cell_type": "code",
   "execution_count": 38,
   "metadata": {
    "collapsed": false
   },
   "outputs": [
    {
     "name": "stdout",
     "output_type": "stream",
     "text": [
      "8057\n"
     ]
    }
   ],
   "source": [
    "print len(raw)"
   ]
  },
  {
   "cell_type": "code",
   "execution_count": 42,
   "metadata": {
    "collapsed": false
   },
   "outputs": [],
   "source": [
    "words = nltk.word_tokenize(raw)"
   ]
  },
  {
   "cell_type": "code",
   "execution_count": 48,
   "metadata": {
    "collapsed": false
   },
   "outputs": [
    {
     "data": {
      "text/plain": [
       "1540"
      ]
     },
     "execution_count": 48,
     "metadata": {},
     "output_type": "execute_result"
    }
   ],
   "source": [
    "len(words)"
   ]
  },
  {
   "cell_type": "code",
   "execution_count": 47,
   "metadata": {
    "collapsed": false
   },
   "outputs": [
    {
     "data": {
      "text/plain": [
       "1540"
      ]
     },
     "execution_count": 47,
     "metadata": {},
     "output_type": "execute_result"
    }
   ],
   "source": [
    "text_survey = nltk.Text(words)\n",
    "len(text_survey)"
   ]
  },
  {
   "cell_type": "code",
   "execution_count": 49,
   "metadata": {
    "collapsed": false
   },
   "outputs": [
    {
     "name": "stdout",
     "output_type": "stream",
     "text": [
      "Displaying 25 of 36 matches:\n",
      "                                     data and software you 'd like to acquire \n",
      " in order to assist researchers with data curation . Not an active researcher \n",
      "icularly with regards to visualizing data GIS '' '' I 'd like to learn more pr\n",
      " and SQL ) . Potentially also survey data collection and analysis , and it 's \n",
      " basics of browsing and manipulating data using Stata . `` A better understand\n",
      "structure , geo-spatial software and data , and R. '' Not sure . `` Knowing ho\n",
      "ely . How to manage large amounts of data and manipulate them to draw out spec\n",
      "und digital humanities and `` '' big data '' '' would be useful , too . '' con\n",
      "frequently to analyze & manage their data . `` Would like to know how to custo\n",
      "s . Would like to know how to scrape data off the web and move from there . ''\n",
      "ch ones are most useful for specific data use/manipulation needs . My research\n",
      "like to understand that better . Gis Data organization and data presentation .\n",
      "t better . Gis Data organization and data presentation . ( Beyond Catalyst and\n",
      " '' `` natural language processing , data visualization '' Time series analysi\n",
      "Use existing spatial maps to plot my data ( e.g . use Police Department beat-a\n",
      "beat-area maps to analyze my spatial data contained in the license plate reade\n",
      " `` Would like to be able to analyze data in the diary text eg names , places \n",
      "ical software , such as R , and with data management . '' `` gis , web page de\n",
      "lso used SAS and Stata ) and explore data visualization software . All of the \n",
      " An easier software or tool to group data ( other than those provided in excel\n",
      "ve and quantitative research . '' `` Data visualization , textual analysis and\n",
      " expand my analysis capacity . '' `` Data management in R and using R to call \n",
      "d like a basic introduction to other data analysis programs in order to see wh\n",
      "ic database skills and management -- data normalization , relational table des\n",
      "ophy of GIS , other forms of digital data visualization , and I guess at some \n"
     ]
    }
   ],
   "source": [
    "text_survey.concordance('data')"
   ]
  },
  {
   "cell_type": "code",
   "execution_count": 56,
   "metadata": {
    "collapsed": false
   },
   "outputs": [
    {
     "data": {
      "image/png": "[encoded data removed]",
      "text/plain": [
       "<matplotlib.figure.Figure at 0x11872e790>"
      ]
     },
     "metadata": {},
     "output_type": "display_data"
    }
   ],
   "source": [
    "text_survey.dispersion_plot([\"R\"])"
   ]
  },
  {
   "cell_type": "code",
   "execution_count": 57,
   "metadata": {
    "collapsed": false
   },
   "outputs": [
    {
     "name": "stdout",
     "output_type": "stream",
     "text": [
      "would like; n't know; natural language; Would like; language\n",
      "processing; know enough; data visualization; survey data; statistical\n",
      "analysis; analyze data; data analysis\n"
     ]
    }
   ],
   "source": [
    "text_survey.collocations()"
   ]
  },
  {
   "cell_type": "code",
   "execution_count": 59,
   "metadata": {
    "collapsed": false
   },
   "outputs": [
    {
     "data": {
      "image/png": "[encoded data removed]",
      "text/plain": [
       "<matplotlib.figure.Figure at 0x11872e850>"
      ]
     },
     "metadata": {},
     "output_type": "display_data"
    }
   ],
   "source": [
    "text_survey.dispersion_plot(['R', 'Python'])"
   ]
  },
  {
   "cell_type": "code",
   "execution_count": 67,
   "metadata": {
    "collapsed": false
   },
   "outputs": [
    {
     "data": {
      "image/png": "[encoded data removed]",
      "text/plain": [
       "<matplotlib.figure.Figure at 0x11a9cbcd0>"
      ]
     },
     "metadata": {},
     "output_type": "display_data"
    }
   ],
   "source": [
    "fdist = FreqDist(text_survey)\n",
    "fdist.plot(20)"
   ]
  },
  {
   "cell_type": "code",
   "execution_count": 72,
   "metadata": {
    "collapsed": false
   },
   "outputs": [
    {
     "data": {
      "image/png": "[encoded data removed]",
      "text/plain": [
       "<matplotlib.figure.Figure at 0x118f3b2d0>"
      ]
     },
     "metadata": {},
     "output_type": "display_data"
    }
   ],
   "source": [
    "bigrams = nltk.bigrams(text_survey)\n",
    "fdist_bigrams = FreqDist(bigrams)\n",
    "fdist_bigrams.plot(20)"
   ]
  },
  {
   "cell_type": "code",
   "execution_count": 73,
   "metadata": {
    "collapsed": false
   },
   "outputs": [
    {
     "data": {
      "text/plain": [
       "[u'i',\n",
       " u'me',\n",
       " u'my',\n",
       " u'myself',\n",
       " u'we',\n",
       " u'our',\n",
       " u'ours',\n",
       " u'ourselves',\n",
       " u'you',\n",
       " u'your']"
      ]
     },
     "execution_count": 73,
     "metadata": {},
     "output_type": "execute_result"
    }
   ],
   "source": [
    "stopwords = nltk.corpus.stopwords.words('english')\n",
    "stopwords[:10]"
   ]
  },
  {
   "cell_type": "code",
   "execution_count": 74,
   "metadata": {
    "collapsed": false
   },
   "outputs": [
    {
     "data": {
      "text/plain": [
       "127"
      ]
     },
     "execution_count": 74,
     "metadata": {},
     "output_type": "execute_result"
    }
   ],
   "source": [
    "len(stopwords)"
   ]
  },
  {
   "cell_type": "code",
   "execution_count": null,
   "metadata": {
    "collapsed": false
   },
   "outputs": [],
   "source": []
  },
  {
   "cell_type": "code",
   "execution_count": null,
   "metadata": {
    "collapsed": false
   },
   "outputs": [],
   "source": []
  },
  {
   "cell_type": "code",
   "execution_count": null,
   "metadata": {
    "collapsed": false
   },
   "outputs": [],
   "source": []
  },
  {
   "cell_type": "code",
   "execution_count": null,
   "metadata": {
    "collapsed": false
   },
   "outputs": [],
   "source": []
  },
  {
   "cell_type": "code",
   "execution_count": null,
   "metadata": {
    "collapsed": false
   },
   "outputs": [],
   "source": []
  },
  {
   "cell_type": "code",
   "execution_count": null,
   "metadata": {
    "collapsed": false
   },
   "outputs": [],
   "source": []
  },
  {
   "cell_type": "code",
   "execution_count": null,
   "metadata": {
    "collapsed": false
   },
   "outputs": [],
   "source": []
  },
  {
   "cell_type": "code",
   "execution_count": null,
   "metadata": {
    "collapsed": false
   },
   "outputs": [],
   "source": []
  },
  {
   "cell_type": "code",
   "execution_count": null,
   "metadata": {
    "collapsed": false
   },
   "outputs": [],
   "source": []
  },
  {
   "cell_type": "code",
   "execution_count": null,
   "metadata": {
    "collapsed": false
   },
   "outputs": [],
   "source": []
  },
  {
   "cell_type": "code",
   "execution_count": null,
   "metadata": {
    "collapsed": false
   },
   "outputs": [],
   "source": []
  },
  {
   "cell_type": "code",
   "execution_count": null,
   "metadata": {
    "collapsed": false
   },
   "outputs": [],
   "source": []
  },
  {
   "cell_type": "code",
   "execution_count": null,
   "metadata": {
    "collapsed": false
   },
   "outputs": [],
   "source": []
  },
  {
   "cell_type": "code",
   "execution_count": null,
   "metadata": {
    "collapsed": false
   },
   "outputs": [],
   "source": []
  },
  {
   "cell_type": "markdown",
   "metadata": {},
   "source": [
    "### Common relationals\n",
    " |  Relational | Meaning |\n",
    " |--------------:|:------------|\n",
    " | <    |  less than |\n",
    " | <=   |   less than or equal to |\n",
    " | ==  |    equal to (note this is two \"=\" signs, not one) |\n",
    " | !=   |   not equal to |\n",
    " | \\>   |   greater than |\n",
    " | \\>= |   greater than or equal to |"
   ]
  },
  {
   "cell_type": "markdown",
   "metadata": {},
   "source": [
    "### Common operators\n",
    " | Operator  | Purpose  |\n",
    " |--------------|------------|\n",
    " | s.startswith(t) | test if s starts with t |\n",
    " | s.endswith(t)  |  test if s ends with t | \n",
    " | t in s         |  test if t is a substring of s | \n",
    " | s.islower()    |  test if s contains cased characters and all are lowercase | \n",
    " | s.isupper()    |  test if s contains cased characters and all are uppercase | \n",
    " | s.isalpha()    |  test if s is non-empty and all characters in s are alphabetic | \n",
    " | s.isalnum()    |  test if s is non-empty and all characters in s are alphanumeric | \n",
    " | s.isdigit()    |  test if s is non-empty and all characters in s are digits | \n",
    " | s.istitle()    |  test if s contains cased characters and is titlecased (i.e. all words in s have initial capitals) | "
   ]
  }
 ],
 "metadata": {
  "kernelspec": {
   "display_name": "Python 2",
   "language": "python",
   "name": "python2"
  },
  "language_info": {
   "codemirror_mode": {
    "name": "ipython",
    "version": 2
   },
   "file_extension": ".py",
   "mimetype": "text/x-python",
   "name": "python",
   "nbconvert_exporter": "python",
   "pygments_lexer": "ipython2",
   "version": "2.7.9"
  }
 },
 "nbformat": 4,
 "nbformat_minor": 0
}
